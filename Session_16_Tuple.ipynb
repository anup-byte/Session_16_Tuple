{
 "cells": [
  {
   "cell_type": "code",
   "execution_count": null,
   "id": "633ee604",
   "metadata": {},
   "outputs": [],
   "source": [
    "#The difference between list and Tuple is that we can't change the elements of tuple once it is assigned\n",
    "#whereas in the list, elements can be changed."
   ]
  },
  {
   "cell_type": "code",
   "execution_count": 1,
   "id": "d814a5e8",
   "metadata": {},
   "outputs": [
    {
     "name": "stdout",
     "output_type": "stream",
     "text": [
      "<class 'tuple'>\n"
     ]
    }
   ],
   "source": [
    "t = ()\n",
    "print(type(t))"
   ]
  },
  {
   "cell_type": "code",
   "execution_count": 2,
   "id": "2e245209",
   "metadata": {},
   "outputs": [
    {
     "name": "stdout",
     "output_type": "stream",
     "text": [
      "(1, 2, 3)\n",
      "<class 'tuple'>\n"
     ]
    }
   ],
   "source": [
    "t = (1, 2, 3)\n",
    "print(t)\n",
    "print(type(t))"
   ]
  },
  {
   "cell_type": "code",
   "execution_count": 3,
   "id": "f5291145",
   "metadata": {},
   "outputs": [
    {
     "name": "stdout",
     "output_type": "stream",
     "text": [
      "(1, 'anup', 87.76, 'shanker')\n",
      "<class 'tuple'>\n"
     ]
    }
   ],
   "source": [
    "t = (1, 'anup', 87.76, 'shanker')\n",
    "print(t)\n",
    "print(type(t))"
   ]
  },
  {
   "cell_type": "code",
   "execution_count": null,
   "id": "fc46cacd",
   "metadata": {},
   "outputs": [],
   "source": [
    "#Homegeneous - same type\n",
    "#Heterogeneous - different type"
   ]
  },
  {
   "cell_type": "code",
   "execution_count": 4,
   "id": "65c15d48",
   "metadata": {},
   "outputs": [
    {
     "name": "stdout",
     "output_type": "stream",
     "text": [
      "(1, (1, 2, 3), ['AI', 'ML', 'DL', 'Pratiush'], 65.76)\n",
      "<class 'tuple'>\n"
     ]
    }
   ],
   "source": [
    "#nested tuple\n",
    "t = (1, (1,2,3), ['AI', 'ML', 'DL', 'Pratiush'], 65.76)\n",
    "print(t)\n",
    "print(type(t))"
   ]
  },
  {
   "cell_type": "code",
   "execution_count": 5,
   "id": "17cad05e",
   "metadata": {},
   "outputs": [
    {
     "name": "stdout",
     "output_type": "stream",
     "text": [
      "<class 'str'>\n"
     ]
    }
   ],
   "source": [
    "t = ('shanker')\n",
    "print(type(t))"
   ]
  },
  {
   "cell_type": "code",
   "execution_count": 6,
   "id": "68da49f9",
   "metadata": {},
   "outputs": [
    {
     "name": "stdout",
     "output_type": "stream",
     "text": [
      "<class 'tuple'>\n"
     ]
    }
   ],
   "source": [
    "t = ('shanker',)\n",
    "print(type(t))"
   ]
  },
  {
   "cell_type": "code",
   "execution_count": 7,
   "id": "c24a0512",
   "metadata": {},
   "outputs": [
    {
     "name": "stdout",
     "output_type": "stream",
     "text": [
      "<class 'int'>\n"
     ]
    }
   ],
   "source": [
    "t = (1)\n",
    "print(type(t))"
   ]
  },
  {
   "cell_type": "code",
   "execution_count": 8,
   "id": "e598bda2",
   "metadata": {},
   "outputs": [
    {
     "name": "stdout",
     "output_type": "stream",
     "text": [
      "<class 'tuple'>\n"
     ]
    }
   ],
   "source": [
    "t = (1,)\n",
    "print(type(t))"
   ]
  },
  {
   "cell_type": "code",
   "execution_count": 9,
   "id": "1f602d2f",
   "metadata": {},
   "outputs": [
    {
     "name": "stdout",
     "output_type": "stream",
     "text": [
      "<class 'str'>\n"
     ]
    }
   ],
   "source": [
    "t = 'shanker'\n",
    "print(type(t))"
   ]
  },
  {
   "cell_type": "code",
   "execution_count": 10,
   "id": "00cf2841",
   "metadata": {},
   "outputs": [
    {
     "name": "stdout",
     "output_type": "stream",
     "text": [
      "Ashram\n"
     ]
    }
   ],
   "source": [
    "#Accessing the elements in Tuple\n",
    "\n",
    "t = ('Haridwar', 'Rishikesh', 'Yoga', 'Ashram', 'Meditation')\n",
    "\n",
    "print(t[3])"
   ]
  },
  {
   "cell_type": "code",
   "execution_count": 11,
   "id": "0284d733",
   "metadata": {},
   "outputs": [
    {
     "name": "stdout",
     "output_type": "stream",
     "text": [
      "Meditation\n"
     ]
    }
   ],
   "source": [
    "print(t[-1])"
   ]
  },
  {
   "cell_type": "code",
   "execution_count": 12,
   "id": "5be358ad",
   "metadata": {},
   "outputs": [
    {
     "name": "stdout",
     "output_type": "stream",
     "text": [
      "('Rishikesh', 'Yoga', 'Ashram', 'Meditation')\n"
     ]
    }
   ],
   "source": [
    "t = ('Haridwar', ('Rishikesh', 'Yoga', 'Ashram', 'Meditation'),45, 78.87)\n",
    "print(t[1])\n"
   ]
  },
  {
   "cell_type": "code",
   "execution_count": 13,
   "id": "bee6f887",
   "metadata": {},
   "outputs": [
    {
     "data": {
      "text/plain": [
       "'Yoga'"
      ]
     },
     "execution_count": 13,
     "metadata": {},
     "output_type": "execute_result"
    }
   ],
   "source": [
    "t[1][1]"
   ]
  },
  {
   "cell_type": "code",
   "execution_count": 14,
   "id": "40f4999f",
   "metadata": {},
   "outputs": [
    {
     "data": {
      "text/plain": [
       "('Rishikesh', 'Yoga', 'Ashram')"
      ]
     },
     "execution_count": 14,
     "metadata": {},
     "output_type": "execute_result"
    }
   ],
   "source": [
    "#slicing\n",
    "t = ('Haridwar', 'Rishikesh', 'Yoga', 'Ashram', 'Meditation', 45,67,89,9876)\n",
    "t[1:4]"
   ]
  },
  {
   "cell_type": "code",
   "execution_count": 15,
   "id": "34768706",
   "metadata": {},
   "outputs": [
    {
     "data": {
      "text/plain": [
       "('Haridwar', 'Rishikesh', 'Yoga', 'Ashram', 'Meditation', 45, 67)"
      ]
     },
     "execution_count": 15,
     "metadata": {},
     "output_type": "execute_result"
    }
   ],
   "source": [
    "t[:-2]"
   ]
  },
  {
   "cell_type": "code",
   "execution_count": 16,
   "id": "102b5fbd",
   "metadata": {},
   "outputs": [
    {
     "data": {
      "text/plain": [
       "('Haridwar', 'Rishikesh', 'Yoga', 'Ashram', 'Meditation', 45, 67, 89, 9876)"
      ]
     },
     "execution_count": 16,
     "metadata": {},
     "output_type": "execute_result"
    }
   ],
   "source": [
    "t[:]"
   ]
  },
  {
   "cell_type": "code",
   "execution_count": 17,
   "id": "e5455719",
   "metadata": {},
   "outputs": [
    {
     "ename": "TypeError",
     "evalue": "'tuple' object does not support item assignment",
     "output_type": "error",
     "traceback": [
      "\u001b[0;31m---------------------------------------------------------------------------\u001b[0m",
      "\u001b[0;31mTypeError\u001b[0m                                 Traceback (most recent call last)",
      "Cell \u001b[0;32mIn[17], line 3\u001b[0m\n\u001b[1;32m      1\u001b[0m t \u001b[38;5;241m=\u001b[39m (\u001b[38;5;241m1\u001b[39m, \u001b[38;5;241m2\u001b[39m, \u001b[38;5;241m3\u001b[39m, \u001b[38;5;241m4\u001b[39m, [\u001b[38;5;241m5\u001b[39m, \u001b[38;5;241m6\u001b[39m, \u001b[38;5;241m7\u001b[39m])\n\u001b[0;32m----> 3\u001b[0m t[\u001b[38;5;241m2\u001b[39m] \u001b[38;5;241m=\u001b[39m \u001b[38;5;124m'\u001b[39m\u001b[38;5;124mvxz\u001b[39m\u001b[38;5;124m'\u001b[39m\n",
      "\u001b[0;31mTypeError\u001b[0m: 'tuple' object does not support item assignment"
     ]
    }
   ],
   "source": [
    "t = (1, 2, 3, 4, [5, 6, 7])\n",
    "\n",
    "t[2] = 'vxz'"
   ]
  },
  {
   "cell_type": "code",
   "execution_count": 18,
   "id": "4ddcf8a6",
   "metadata": {},
   "outputs": [],
   "source": [
    "t = (1, 2, 3, 4, [5, 6, 7])\n",
    "t[4][1] = 'ruchi'\n"
   ]
  },
  {
   "cell_type": "code",
   "execution_count": 19,
   "id": "5acff4d9",
   "metadata": {},
   "outputs": [
    {
     "data": {
      "text/plain": [
       "(1, 2, 3, 4, [5, 'ruchi', 7])"
      ]
     },
     "execution_count": 19,
     "metadata": {},
     "output_type": "execute_result"
    }
   ],
   "source": [
    "t"
   ]
  },
  {
   "cell_type": "code",
   "execution_count": 20,
   "id": "2c7ebc49",
   "metadata": {},
   "outputs": [],
   "source": [
    "t = (1, 2, 3, 4, [5, 6, 7])\n",
    "\n",
    "t[4][1] = 'vxz'"
   ]
  },
  {
   "cell_type": "code",
   "execution_count": 21,
   "id": "490a314c",
   "metadata": {},
   "outputs": [
    {
     "data": {
      "text/plain": [
       "(1, 2, 3, 4, [5, 'vxz', 7])"
      ]
     },
     "execution_count": 21,
     "metadata": {},
     "output_type": "execute_result"
    }
   ],
   "source": [
    "t"
   ]
  },
  {
   "cell_type": "code",
   "execution_count": 22,
   "id": "f2d4bc40",
   "metadata": {},
   "outputs": [],
   "source": [
    "t1 = (1, 2, 3)\n",
    "t2 = (4, 5, 6)"
   ]
  },
  {
   "cell_type": "code",
   "execution_count": 23,
   "id": "d990b7eb",
   "metadata": {},
   "outputs": [
    {
     "data": {
      "text/plain": [
       "(1, 2, 3, 4, 5, 6)"
      ]
     },
     "execution_count": 23,
     "metadata": {},
     "output_type": "execute_result"
    }
   ],
   "source": [
    "t1 + t2"
   ]
  },
  {
   "cell_type": "code",
   "execution_count": 24,
   "id": "6ca3ab96",
   "metadata": {},
   "outputs": [
    {
     "name": "stdout",
     "output_type": "stream",
     "text": [
      "('anup', 'AI', 'anup', 'AI', 'anup', 'AI', 'anup', 'AI')\n"
     ]
    }
   ],
   "source": [
    "t = ('anup', 'AI') * 4\n",
    "print(t)"
   ]
  },
  {
   "cell_type": "code",
   "execution_count": 27,
   "id": "08c9a6e6",
   "metadata": {},
   "outputs": [],
   "source": [
    "t = ('anup',) * 4"
   ]
  },
  {
   "cell_type": "code",
   "execution_count": 28,
   "id": "efd9502c",
   "metadata": {},
   "outputs": [
    {
     "data": {
      "text/plain": [
       "('anup', 'anup', 'anup', 'anup')"
      ]
     },
     "execution_count": 28,
     "metadata": {},
     "output_type": "execute_result"
    }
   ],
   "source": [
    "t"
   ]
  },
  {
   "cell_type": "code",
   "execution_count": 29,
   "id": "f235f1a0",
   "metadata": {},
   "outputs": [],
   "source": [
    "t = (1, 2, 3, 4, 5, 6)\n",
    "\n",
    "del t\n"
   ]
  },
  {
   "cell_type": "code",
   "execution_count": 30,
   "id": "36bf05a4",
   "metadata": {},
   "outputs": [
    {
     "ename": "NameError",
     "evalue": "name 't' is not defined",
     "output_type": "error",
     "traceback": [
      "\u001b[0;31m---------------------------------------------------------------------------\u001b[0m",
      "\u001b[0;31mNameError\u001b[0m                                 Traceback (most recent call last)",
      "Cell \u001b[0;32mIn[30], line 1\u001b[0m\n\u001b[0;32m----> 1\u001b[0m t\n",
      "\u001b[0;31mNameError\u001b[0m: name 't' is not defined"
     ]
    }
   ],
   "source": [
    "t"
   ]
  },
  {
   "cell_type": "code",
   "execution_count": 31,
   "id": "b348083b",
   "metadata": {},
   "outputs": [
    {
     "ename": "TypeError",
     "evalue": "tuple.count() takes exactly one argument (0 given)",
     "output_type": "error",
     "traceback": [
      "\u001b[0;31m---------------------------------------------------------------------------\u001b[0m",
      "\u001b[0;31mTypeError\u001b[0m                                 Traceback (most recent call last)",
      "Cell \u001b[0;32mIn[31], line 2\u001b[0m\n\u001b[1;32m      1\u001b[0m t \u001b[38;5;241m=\u001b[39m (\u001b[38;5;241m1\u001b[39m, \u001b[38;5;241m2\u001b[39m, \u001b[38;5;241m3\u001b[39m,\u001b[38;5;241m87\u001b[39m,\u001b[38;5;241m765\u001b[39m,\u001b[38;5;241m32\u001b[39m,\u001b[38;5;241m76543\u001b[39m,\u001b[38;5;241m4\u001b[39m, \u001b[38;5;241m5\u001b[39m, \u001b[38;5;241m6\u001b[39m,\u001b[38;5;241m2\u001b[39m,\u001b[38;5;241m2\u001b[39m,\u001b[38;5;241m3\u001b[39m,\u001b[38;5;241m765\u001b[39m)\n\u001b[0;32m----> 2\u001b[0m t\u001b[38;5;241m.\u001b[39mcount()\n",
      "\u001b[0;31mTypeError\u001b[0m: tuple.count() takes exactly one argument (0 given)"
     ]
    }
   ],
   "source": [
    "t = (1, 2, 3,87,765,32,76543,4, 5, 6,2,2,3,765)\n",
    "t.count()\n"
   ]
  },
  {
   "cell_type": "code",
   "execution_count": 32,
   "id": "bed07685",
   "metadata": {},
   "outputs": [
    {
     "data": {
      "text/plain": [
       "3"
      ]
     },
     "execution_count": 32,
     "metadata": {},
     "output_type": "execute_result"
    }
   ],
   "source": [
    "t = (1, 2, 3,87,765,32,76543,4, 5, 6,2,2,3,765)\n",
    "t.count(2)\n"
   ]
  },
  {
   "cell_type": "code",
   "execution_count": 33,
   "id": "ca4d8638",
   "metadata": {},
   "outputs": [
    {
     "data": {
      "text/plain": [
       "2"
      ]
     },
     "execution_count": 33,
     "metadata": {},
     "output_type": "execute_result"
    }
   ],
   "source": [
    "t.count(3)"
   ]
  },
  {
   "cell_type": "code",
   "execution_count": 34,
   "id": "99e43a18",
   "metadata": {},
   "outputs": [
    {
     "data": {
      "text/plain": [
       "2"
      ]
     },
     "execution_count": 34,
     "metadata": {},
     "output_type": "execute_result"
    }
   ],
   "source": [
    "t.count(765)"
   ]
  },
  {
   "cell_type": "code",
   "execution_count": 35,
   "id": "e8d2a313",
   "metadata": {},
   "outputs": [
    {
     "data": {
      "text/plain": [
       "4"
      ]
     },
     "execution_count": 35,
     "metadata": {},
     "output_type": "execute_result"
    }
   ],
   "source": [
    "t = (1, 2, 3,87,765,32,76543,4, 5, 6,2,2,3,765)\n",
    "t.index(765)\n"
   ]
  },
  {
   "cell_type": "code",
   "execution_count": 36,
   "id": "f9e27881",
   "metadata": {},
   "outputs": [
    {
     "data": {
      "text/plain": [
       "True"
      ]
     },
     "execution_count": 36,
     "metadata": {},
     "output_type": "execute_result"
    }
   ],
   "source": [
    "t = (1, 2, 3,87,765,32,76543,4, 5, 6,2,2,3,765)\n",
    "1 in t"
   ]
  },
  {
   "cell_type": "code",
   "execution_count": 37,
   "id": "c8d80fd1",
   "metadata": {},
   "outputs": [
    {
     "data": {
      "text/plain": [
       "False"
      ]
     },
     "execution_count": 37,
     "metadata": {},
     "output_type": "execute_result"
    }
   ],
   "source": [
    "30 in t"
   ]
  },
  {
   "cell_type": "code",
   "execution_count": 38,
   "id": "4244bac0",
   "metadata": {},
   "outputs": [
    {
     "data": {
      "text/plain": [
       "14"
      ]
     },
     "execution_count": 38,
     "metadata": {},
     "output_type": "execute_result"
    }
   ],
   "source": [
    "len(t)"
   ]
  },
  {
   "cell_type": "code",
   "execution_count": 41,
   "id": "9ccda734",
   "metadata": {},
   "outputs": [],
   "source": [
    "t = (1, 2, 3,87,765,32,76543,4, 5, 6,2,2,3,765)\n",
    "new_t = sorted(t)"
   ]
  },
  {
   "cell_type": "code",
   "execution_count": 42,
   "id": "5e3e9e7b",
   "metadata": {},
   "outputs": [
    {
     "data": {
      "text/plain": [
       "[1, 2, 2, 2, 3, 3, 4, 5, 6, 32, 87, 765, 765, 76543]"
      ]
     },
     "execution_count": 42,
     "metadata": {},
     "output_type": "execute_result"
    }
   ],
   "source": [
    "new_t"
   ]
  },
  {
   "cell_type": "code",
   "execution_count": 43,
   "id": "ceadc9f1",
   "metadata": {},
   "outputs": [
    {
     "name": "stdout",
     "output_type": "stream",
     "text": [
      "<class 'list'>\n"
     ]
    }
   ],
   "source": [
    "print(type(new_t))"
   ]
  },
  {
   "cell_type": "code",
   "execution_count": 44,
   "id": "5a00a1a4",
   "metadata": {},
   "outputs": [
    {
     "data": {
      "text/plain": [
       "76543"
      ]
     },
     "execution_count": 44,
     "metadata": {},
     "output_type": "execute_result"
    }
   ],
   "source": [
    "max(t)"
   ]
  },
  {
   "cell_type": "code",
   "execution_count": 45,
   "id": "89d1acec",
   "metadata": {},
   "outputs": [
    {
     "data": {
      "text/plain": [
       "1"
      ]
     },
     "execution_count": 45,
     "metadata": {},
     "output_type": "execute_result"
    }
   ],
   "source": [
    "min(t)"
   ]
  },
  {
   "cell_type": "code",
   "execution_count": 46,
   "id": "bc72dfc2",
   "metadata": {},
   "outputs": [
    {
     "data": {
      "text/plain": [
       "78220"
      ]
     },
     "execution_count": 46,
     "metadata": {},
     "output_type": "execute_result"
    }
   ],
   "source": [
    "sum(t)"
   ]
  },
  {
   "cell_type": "code",
   "execution_count": null,
   "id": "d94d4cd4",
   "metadata": {},
   "outputs": [],
   "source": []
  },
  {
   "cell_type": "code",
   "execution_count": null,
   "id": "74d728f5",
   "metadata": {},
   "outputs": [],
   "source": []
  },
  {
   "cell_type": "code",
   "execution_count": null,
   "id": "2b4f6acb",
   "metadata": {},
   "outputs": [],
   "source": []
  },
  {
   "cell_type": "code",
   "execution_count": null,
   "id": "57a91931",
   "metadata": {},
   "outputs": [],
   "source": []
  },
  {
   "cell_type": "code",
   "execution_count": null,
   "id": "c7a6c684",
   "metadata": {},
   "outputs": [],
   "source": []
  },
  {
   "cell_type": "code",
   "execution_count": null,
   "id": "740cde46",
   "metadata": {},
   "outputs": [],
   "source": []
  },
  {
   "cell_type": "code",
   "execution_count": null,
   "id": "9b957539",
   "metadata": {},
   "outputs": [],
   "source": []
  },
  {
   "cell_type": "code",
   "execution_count": null,
   "id": "33ee2212",
   "metadata": {},
   "outputs": [],
   "source": []
  },
  {
   "cell_type": "code",
   "execution_count": null,
   "id": "c3d1db6e",
   "metadata": {},
   "outputs": [],
   "source": []
  },
  {
   "cell_type": "code",
   "execution_count": null,
   "id": "0e44a75c",
   "metadata": {},
   "outputs": [],
   "source": []
  },
  {
   "cell_type": "code",
   "execution_count": null,
   "id": "253e2d33",
   "metadata": {},
   "outputs": [],
   "source": []
  }
 ],
 "metadata": {
  "kernelspec": {
   "display_name": "Python 3 (ipykernel)",
   "language": "python",
   "name": "python3"
  },
  "language_info": {
   "codemirror_mode": {
    "name": "ipython",
    "version": 3
   },
   "file_extension": ".py",
   "mimetype": "text/x-python",
   "name": "python",
   "nbconvert_exporter": "python",
   "pygments_lexer": "ipython3",
   "version": "3.11.4"
  }
 },
 "nbformat": 4,
 "nbformat_minor": 5
}
